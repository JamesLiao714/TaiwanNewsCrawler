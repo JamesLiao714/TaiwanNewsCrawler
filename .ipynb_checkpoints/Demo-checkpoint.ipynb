{
 "cells": [
  {
   "cell_type": "code",
   "execution_count": 1,
   "id": "f8fbaeb6",
   "metadata": {},
   "outputs": [],
   "source": [
    "\"\"\"\n",
    "@author: 廖品捷\n",
    "@Create Date: 2022/1/25\n",
    "\"\"\"\n",
    "from model import chinatimes_crawler, ltn_crawler, udn_crawler"
   ]
  },
  {
   "cell_type": "code",
   "execution_count": null,
   "id": "a1fd2d22",
   "metadata": {},
   "outputs": [],
   "source": [
    "crawler = chinatimes_crawler()\n",
    "crawler.search('covid', pages=10, CSV = True)"
   ]
  },
  {
   "cell_type": "code",
   "execution_count": null,
   "id": "f3542acc",
   "metadata": {},
   "outputs": [],
   "source": [
    "crawler = ltn_crawler()\n",
    "crawler.search('covid', pages=10,CSV = True)"
   ]
  },
  {
   "cell_type": "code",
   "execution_count": null,
   "id": "5e22d264",
   "metadata": {},
   "outputs": [],
   "source": [
    "crawler = udn_crawler()\n",
    "crawler.search('covid', pages=10,CSV = True)"
   ]
  },
  {
   "cell_type": "code",
   "execution_count": null,
   "id": "d90b82b3",
   "metadata": {},
   "outputs": [],
   "source": []
  }
 ],
 "metadata": {
  "kernelspec": {
   "display_name": "Python 3.7.11 64-bit ('py36': conda)",
   "language": "python",
   "name": "python3711jvsc74a57bd082f90a6d6086172460f4c9c1e1a219fdde808fd64cbe4fc0c473da247502f162"
  },
  "language_info": {
   "codemirror_mode": {
    "name": "ipython",
    "version": 3
   },
   "file_extension": ".py",
   "mimetype": "text/x-python",
   "name": "python",
   "nbconvert_exporter": "python",
   "pygments_lexer": "ipython3",
   "version": "3.7.11"
  }
 },
 "nbformat": 4,
 "nbformat_minor": 5
}
